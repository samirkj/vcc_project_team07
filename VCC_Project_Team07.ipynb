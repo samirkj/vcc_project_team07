{
  "cells": [
    {
      "cell_type": "markdown",
      "metadata": {
        "id": "T9Ssf__suSGU"
      },
      "source": [
        "# Gold Price Forecasting \n",
        "### A Time-Series Regression Project by Team 07 (IIT Jodhpur, MTech DE)\n",
        "\n",
        "This project aims to predict future gold prices using historical data and machine learning techniques, focusing on real-time financial trends and practical forecasting.\n"
      ]
    },
    {
      "cell_type": "markdown",
      "metadata": {
        "id": "ZhZZrOfyuI3I"
      },
      "source": [
        "##Install Python Libraries"
      ]
    },
    {
      "cell_type": "code",
      "execution_count": 1,
      "metadata": {
        "id": "jmy_B9psr3r5"
      },
      "outputs": [
        {
          "name": "stderr",
          "output_type": "stream",
          "text": [
            "\n",
            "[notice] A new release of pip is available: 24.3.1 -> 25.1.1\n",
            "[notice] To update, run: python.exe -m pip install --upgrade pip\n",
            "\n",
            "[notice] A new release of pip is available: 24.3.1 -> 25.1.1\n",
            "[notice] To update, run: python.exe -m pip install --upgrade pip\n"
          ]
        }
      ],
      "source": [
        "!pip install xgboost --quiet\n",
        "!pip install scikit-learn --quiet"
      ]
    },
    {
      "cell_type": "markdown",
      "metadata": {
        "id": "I0ru5o7au10O"
      },
      "source": [
        "## Importing Required Libraries"
      ]
    },
    {
      "cell_type": "code",
      "execution_count": 2,
      "metadata": {
        "id": "rPm67IAUtJZ8"
      },
      "outputs": [],
      "source": [
        "import pandas as pd\n",
        "import numpy as np\n",
        "import matplotlib.pyplot as plt\n",
        "from sklearn.ensemble import RandomForestRegressor\n",
        "from sklearn.model_selection import train_test_split\n",
        "from sklearn.metrics import mean_absolute_error, mean_squared_error\n",
        "from sklearn.linear_model import Ridge\n",
        "from sklearn.preprocessing import StandardScaler\n",
        "from sklearn.pipeline import make_pipeline\n",
        "from datetime import timedelta\n",
        "from IPython.display import display"
      ]
    },
    {
      "cell_type": "markdown",
      "metadata": {
        "id": "_DcY7ZmTy0o2"
      },
      "source": [
        "## Reading the Dataset"
      ]
    },
    {
      "cell_type": "code",
      "execution_count": 3,
      "metadata": {
        "colab": {
          "base_uri": "https://localhost:8080/",
          "height": 206
        },
        "id": "3GwfPi3OtKBy",
        "outputId": "ac139ffb-56c5-48b2-9191-42c59a5f5a8c"
      },
      "outputs": [
        {
          "data": {
            "application/vnd.microsoft.datawrangler.viewer.v0+json": {
              "columns": [
                {
                  "name": "index",
                  "rawType": "int64",
                  "type": "integer"
                },
                {
                  "name": "Date",
                  "rawType": "datetime64[ns]",
                  "type": "datetime"
                },
                {
                  "name": "Open",
                  "rawType": "float64",
                  "type": "float"
                },
                {
                  "name": "High",
                  "rawType": "float64",
                  "type": "float"
                },
                {
                  "name": "Low",
                  "rawType": "float64",
                  "type": "float"
                },
                {
                  "name": "Close",
                  "rawType": "float64",
                  "type": "float"
                },
                {
                  "name": "Volume",
                  "rawType": "int64",
                  "type": "integer"
                }
              ],
              "ref": "c1c9cdf3-6d0a-46e2-bba2-8f60948cb94b",
              "rows": [
                [
                  "0",
                  "2004-06-11 07:00:00",
                  "384.0",
                  "384.3",
                  "383.8",
                  "384.3",
                  "12"
                ],
                [
                  "1",
                  "2004-06-11 07:30:00",
                  "383.8",
                  "384.3",
                  "383.3",
                  "383.8",
                  "32"
                ],
                [
                  "2",
                  "2004-06-11 08:00:00",
                  "383.8",
                  "384.3",
                  "383.5",
                  "383.5",
                  "28"
                ],
                [
                  "3",
                  "2004-06-11 08:30:00",
                  "383.3",
                  "383.5",
                  "383.1",
                  "383.1",
                  "13"
                ],
                [
                  "4",
                  "2004-06-11 09:00:00",
                  "383.1",
                  "384.1",
                  "382.8",
                  "383.0",
                  "24"
                ]
              ],
              "shape": {
                "columns": 6,
                "rows": 5
              }
            },
            "text/html": [
              "<div>\n",
              "<style scoped>\n",
              "    .dataframe tbody tr th:only-of-type {\n",
              "        vertical-align: middle;\n",
              "    }\n",
              "\n",
              "    .dataframe tbody tr th {\n",
              "        vertical-align: top;\n",
              "    }\n",
              "\n",
              "    .dataframe thead th {\n",
              "        text-align: right;\n",
              "    }\n",
              "</style>\n",
              "<table border=\"1\" class=\"dataframe\">\n",
              "  <thead>\n",
              "    <tr style=\"text-align: right;\">\n",
              "      <th></th>\n",
              "      <th>Date</th>\n",
              "      <th>Open</th>\n",
              "      <th>High</th>\n",
              "      <th>Low</th>\n",
              "      <th>Close</th>\n",
              "      <th>Volume</th>\n",
              "    </tr>\n",
              "  </thead>\n",
              "  <tbody>\n",
              "    <tr>\n",
              "      <th>0</th>\n",
              "      <td>2004-06-11 07:00:00</td>\n",
              "      <td>384.0</td>\n",
              "      <td>384.3</td>\n",
              "      <td>383.8</td>\n",
              "      <td>384.3</td>\n",
              "      <td>12</td>\n",
              "    </tr>\n",
              "    <tr>\n",
              "      <th>1</th>\n",
              "      <td>2004-06-11 07:30:00</td>\n",
              "      <td>383.8</td>\n",
              "      <td>384.3</td>\n",
              "      <td>383.3</td>\n",
              "      <td>383.8</td>\n",
              "      <td>32</td>\n",
              "    </tr>\n",
              "    <tr>\n",
              "      <th>2</th>\n",
              "      <td>2004-06-11 08:00:00</td>\n",
              "      <td>383.8</td>\n",
              "      <td>384.3</td>\n",
              "      <td>383.5</td>\n",
              "      <td>383.5</td>\n",
              "      <td>28</td>\n",
              "    </tr>\n",
              "    <tr>\n",
              "      <th>3</th>\n",
              "      <td>2004-06-11 08:30:00</td>\n",
              "      <td>383.3</td>\n",
              "      <td>383.5</td>\n",
              "      <td>383.1</td>\n",
              "      <td>383.1</td>\n",
              "      <td>13</td>\n",
              "    </tr>\n",
              "    <tr>\n",
              "      <th>4</th>\n",
              "      <td>2004-06-11 09:00:00</td>\n",
              "      <td>383.1</td>\n",
              "      <td>384.1</td>\n",
              "      <td>382.8</td>\n",
              "      <td>383.0</td>\n",
              "      <td>24</td>\n",
              "    </tr>\n",
              "  </tbody>\n",
              "</table>\n",
              "</div>"
            ],
            "text/plain": [
              "                 Date   Open   High    Low  Close  Volume\n",
              "0 2004-06-11 07:00:00  384.0  384.3  383.8  384.3      12\n",
              "1 2004-06-11 07:30:00  383.8  384.3  383.3  383.8      32\n",
              "2 2004-06-11 08:00:00  383.8  384.3  383.5  383.5      28\n",
              "3 2004-06-11 08:30:00  383.3  383.5  383.1  383.1      13\n",
              "4 2004-06-11 09:00:00  383.1  384.1  382.8  383.0      24"
            ]
          },
          "execution_count": 3,
          "metadata": {},
          "output_type": "execute_result"
        }
      ],
      "source": [
        "df = pd.read_csv(\"XAU_30m_data.csv\",delimiter=';',parse_dates=['Date'])\n",
        "df.head()"
      ]
    },
    {
      "cell_type": "markdown",
      "metadata": {
        "id": "oC4efU8mzMW9"
      },
      "source": [
        "## Data Pre-Processing"
      ]
    },
    {
      "cell_type": "code",
      "execution_count": 4,
      "metadata": {
        "colab": {
          "base_uri": "https://localhost:8080/"
        },
        "id": "93XG1y1LtaUl",
        "outputId": "ad5b6eea-273e-4114-ab6b-d258791641d2"
      },
      "outputs": [
        {
          "name": "stdout",
          "output_type": "stream",
          "text": [
            "Index(['Open', 'High', 'Low', 'Close', 'Volume'], dtype='object')\n"
          ]
        }
      ],
      "source": [
        "df['Date'] = pd.to_datetime(df['Date'], format='%Y.%m.%d %H:%M')\n",
        "df.set_index('Date', inplace=True)\n",
        "df = df.sort_index()\n",
        "print(df.columns)"
      ]
    },
    {
      "cell_type": "code",
      "execution_count": 5,
      "metadata": {
        "colab": {
          "base_uri": "https://localhost:8080/",
          "height": 238
        },
        "id": "tN9doo2atcxh",
        "outputId": "b41f75b6-daee-4ee9-c597-50a6138913ec"
      },
      "outputs": [
        {
          "data": {
            "application/vnd.microsoft.datawrangler.viewer.v0+json": {
              "columns": [
                {
                  "name": "Date",
                  "rawType": "datetime64[ns]",
                  "type": "datetime"
                },
                {
                  "name": "Open",
                  "rawType": "float64",
                  "type": "float"
                },
                {
                  "name": "High",
                  "rawType": "float64",
                  "type": "float"
                },
                {
                  "name": "Low",
                  "rawType": "float64",
                  "type": "float"
                },
                {
                  "name": "Close",
                  "rawType": "float64",
                  "type": "float"
                },
                {
                  "name": "Volume",
                  "rawType": "int64",
                  "type": "integer"
                }
              ],
              "ref": "d3c008b7-8ef0-423b-af3f-1a13a4ff64fc",
              "rows": [
                [
                  "2004-06-11 07:00:00",
                  "384.0",
                  "384.3",
                  "383.8",
                  "384.3",
                  "12"
                ],
                [
                  "2004-06-11 07:30:00",
                  "383.8",
                  "384.3",
                  "383.3",
                  "383.8",
                  "32"
                ],
                [
                  "2004-06-11 08:00:00",
                  "383.8",
                  "384.3",
                  "383.5",
                  "383.5",
                  "28"
                ],
                [
                  "2004-06-11 08:30:00",
                  "383.3",
                  "383.5",
                  "383.1",
                  "383.1",
                  "13"
                ],
                [
                  "2004-06-11 09:00:00",
                  "383.1",
                  "384.1",
                  "382.8",
                  "383.0",
                  "24"
                ]
              ],
              "shape": {
                "columns": 5,
                "rows": 5
              }
            },
            "text/html": [
              "<div>\n",
              "<style scoped>\n",
              "    .dataframe tbody tr th:only-of-type {\n",
              "        vertical-align: middle;\n",
              "    }\n",
              "\n",
              "    .dataframe tbody tr th {\n",
              "        vertical-align: top;\n",
              "    }\n",
              "\n",
              "    .dataframe thead th {\n",
              "        text-align: right;\n",
              "    }\n",
              "</style>\n",
              "<table border=\"1\" class=\"dataframe\">\n",
              "  <thead>\n",
              "    <tr style=\"text-align: right;\">\n",
              "      <th></th>\n",
              "      <th>Open</th>\n",
              "      <th>High</th>\n",
              "      <th>Low</th>\n",
              "      <th>Close</th>\n",
              "      <th>Volume</th>\n",
              "    </tr>\n",
              "    <tr>\n",
              "      <th>Date</th>\n",
              "      <th></th>\n",
              "      <th></th>\n",
              "      <th></th>\n",
              "      <th></th>\n",
              "      <th></th>\n",
              "    </tr>\n",
              "  </thead>\n",
              "  <tbody>\n",
              "    <tr>\n",
              "      <th>2004-06-11 07:00:00</th>\n",
              "      <td>384.0</td>\n",
              "      <td>384.3</td>\n",
              "      <td>383.8</td>\n",
              "      <td>384.3</td>\n",
              "      <td>12</td>\n",
              "    </tr>\n",
              "    <tr>\n",
              "      <th>2004-06-11 07:30:00</th>\n",
              "      <td>383.8</td>\n",
              "      <td>384.3</td>\n",
              "      <td>383.3</td>\n",
              "      <td>383.8</td>\n",
              "      <td>32</td>\n",
              "    </tr>\n",
              "    <tr>\n",
              "      <th>2004-06-11 08:00:00</th>\n",
              "      <td>383.8</td>\n",
              "      <td>384.3</td>\n",
              "      <td>383.5</td>\n",
              "      <td>383.5</td>\n",
              "      <td>28</td>\n",
              "    </tr>\n",
              "    <tr>\n",
              "      <th>2004-06-11 08:30:00</th>\n",
              "      <td>383.3</td>\n",
              "      <td>383.5</td>\n",
              "      <td>383.1</td>\n",
              "      <td>383.1</td>\n",
              "      <td>13</td>\n",
              "    </tr>\n",
              "    <tr>\n",
              "      <th>2004-06-11 09:00:00</th>\n",
              "      <td>383.1</td>\n",
              "      <td>384.1</td>\n",
              "      <td>382.8</td>\n",
              "      <td>383.0</td>\n",
              "      <td>24</td>\n",
              "    </tr>\n",
              "  </tbody>\n",
              "</table>\n",
              "</div>"
            ],
            "text/plain": [
              "                      Open   High    Low  Close  Volume\n",
              "Date                                                   \n",
              "2004-06-11 07:00:00  384.0  384.3  383.8  384.3      12\n",
              "2004-06-11 07:30:00  383.8  384.3  383.3  383.8      32\n",
              "2004-06-11 08:00:00  383.8  384.3  383.5  383.5      28\n",
              "2004-06-11 08:30:00  383.3  383.5  383.1  383.1      13\n",
              "2004-06-11 09:00:00  383.1  384.1  382.8  383.0      24"
            ]
          },
          "execution_count": 5,
          "metadata": {},
          "output_type": "execute_result"
        }
      ],
      "source": [
        "daily_df = df['Close'].resample('D').last().dropna().to_frame()\n",
        "daily_df.rename(columns={'Close': 'Price'}, inplace=True)\n",
        "df.head()"
      ]
    },
    {
      "cell_type": "markdown",
      "metadata": {
        "id": "iYSYGMVK3m5i"
      },
      "source": [
        "## Feature Engineering and Target Preparation"
      ]
    },
    {
      "cell_type": "markdown",
      "metadata": {
        "id": "-e4ADNQo4Qnh"
      },
      "source": [
        "### Features Created:\n",
        "- **MA_3, MA_7, MA_14**: Short and medium-term moving averages\n",
        "- **Return_1**: Daily return (percentage change from previous day)\n",
        "- **Volatility_7**: 7-day rolling standard deviation of prices (volatility)\n",
        "- **Momentum_3**: Price momentum over 3 days\n",
        "- **ROC_3**: Rate of change (3-day price percentage change)\n",
        "- **RSI_14**: 14-day Relative Strength Index to measure overbought/oversold levels"
      ]
    },
    {
      "cell_type": "code",
      "execution_count": 6,
      "metadata": {
        "id": "yu5CFPaYthwO"
      },
      "outputs": [],
      "source": [
        "daily_df['MA_3'] = daily_df['Price'].rolling(3).mean()\n",
        "daily_df['MA_7'] = daily_df['Price'].rolling(7).mean()\n",
        "daily_df['MA_14'] = daily_df['Price'].rolling(14).mean()\n",
        "daily_df['Return_1'] = daily_df['Price'].pct_change()\n",
        "daily_df['Volatility_7'] = daily_df['Price'].rolling(7).std()\n",
        "daily_df['Momentum_3'] = daily_df['Price'] - daily_df['Price'].shift(3)\n",
        "daily_df['ROC_3'] = daily_df['Price'].pct_change(periods=3)"
      ]
    },
    {
      "cell_type": "code",
      "execution_count": 7,
      "metadata": {
        "id": "5jQxoy-Utin6"
      },
      "outputs": [],
      "source": [
        "delta = daily_df['Price'].diff()\n",
        "gain = delta.where(delta > 0, 0).rolling(14).mean()\n",
        "loss = -delta.where(delta < 0, 0).rolling(14).mean()\n",
        "rs = gain / loss\n",
        "daily_df['RSI_14'] = 100 - (100 / (1 + rs))"
      ]
    },
    {
      "cell_type": "markdown",
      "metadata": {
        "id": "D19Fa5by32EY"
      },
      "source": [
        "### Target Variable:\n",
        "The next day's price (`Price` shifted by -1), which we aim to predict."
      ]
    },
    {
      "cell_type": "code",
      "execution_count": 8,
      "metadata": {
        "id": "LSqbZGhvtmI4"
      },
      "outputs": [],
      "source": [
        "daily_df['Target'] = daily_df['Price'].shift(-1)\n",
        "daily_df.dropna(inplace=True)"
      ]
    },
    {
      "cell_type": "markdown",
      "metadata": {
        "id": "ohHsevVJ3_kl"
      },
      "source": [
        "### Final Input Features for Model:"
      ]
    },
    {
      "cell_type": "code",
      "execution_count": 9,
      "metadata": {
        "id": "_YdRBVFxtn1U"
      },
      "outputs": [],
      "source": [
        "features = ['Price', 'MA_3', 'MA_7', 'MA_14', 'Return_1', 'Volatility_7',\n",
        "            'Momentum_3', 'ROC_3', 'RSI_14']\n",
        "X = daily_df[features]\n",
        "y = daily_df['Target']"
      ]
    },
    {
      "cell_type": "markdown",
      "metadata": {
        "id": "UVyVd6VCzjAp"
      },
      "source": [
        "## Model Training\n"
      ]
    },
    {
      "cell_type": "code",
      "execution_count": 10,
      "metadata": {
        "colab": {
          "base_uri": "https://localhost:8080/",
          "height": 243
        },
        "id": "AY2sF3iStpe3",
        "outputId": "d4771316-3c3e-495f-84e9-ea10e1b28763"
      },
      "outputs": [
        {
          "data": {
            "text/html": [
              "<style>#sk-container-id-1 {\n",
              "  /* Definition of color scheme common for light and dark mode */\n",
              "  --sklearn-color-text: #000;\n",
              "  --sklearn-color-text-muted: #666;\n",
              "  --sklearn-color-line: gray;\n",
              "  /* Definition of color scheme for unfitted estimators */\n",
              "  --sklearn-color-unfitted-level-0: #fff5e6;\n",
              "  --sklearn-color-unfitted-level-1: #f6e4d2;\n",
              "  --sklearn-color-unfitted-level-2: #ffe0b3;\n",
              "  --sklearn-color-unfitted-level-3: chocolate;\n",
              "  /* Definition of color scheme for fitted estimators */\n",
              "  --sklearn-color-fitted-level-0: #f0f8ff;\n",
              "  --sklearn-color-fitted-level-1: #d4ebff;\n",
              "  --sklearn-color-fitted-level-2: #b3dbfd;\n",
              "  --sklearn-color-fitted-level-3: cornflowerblue;\n",
              "\n",
              "  /* Specific color for light theme */\n",
              "  --sklearn-color-text-on-default-background: var(--sg-text-color, var(--theme-code-foreground, var(--jp-content-font-color1, black)));\n",
              "  --sklearn-color-background: var(--sg-background-color, var(--theme-background, var(--jp-layout-color0, white)));\n",
              "  --sklearn-color-border-box: var(--sg-text-color, var(--theme-code-foreground, var(--jp-content-font-color1, black)));\n",
              "  --sklearn-color-icon: #696969;\n",
              "\n",
              "  @media (prefers-color-scheme: dark) {\n",
              "    /* Redefinition of color scheme for dark theme */\n",
              "    --sklearn-color-text-on-default-background: var(--sg-text-color, var(--theme-code-foreground, var(--jp-content-font-color1, white)));\n",
              "    --sklearn-color-background: var(--sg-background-color, var(--theme-background, var(--jp-layout-color0, #111)));\n",
              "    --sklearn-color-border-box: var(--sg-text-color, var(--theme-code-foreground, var(--jp-content-font-color1, white)));\n",
              "    --sklearn-color-icon: #878787;\n",
              "  }\n",
              "}\n",
              "\n",
              "#sk-container-id-1 {\n",
              "  color: var(--sklearn-color-text);\n",
              "}\n",
              "\n",
              "#sk-container-id-1 pre {\n",
              "  padding: 0;\n",
              "}\n",
              "\n",
              "#sk-container-id-1 input.sk-hidden--visually {\n",
              "  border: 0;\n",
              "  clip: rect(1px 1px 1px 1px);\n",
              "  clip: rect(1px, 1px, 1px, 1px);\n",
              "  height: 1px;\n",
              "  margin: -1px;\n",
              "  overflow: hidden;\n",
              "  padding: 0;\n",
              "  position: absolute;\n",
              "  width: 1px;\n",
              "}\n",
              "\n",
              "#sk-container-id-1 div.sk-dashed-wrapped {\n",
              "  border: 1px dashed var(--sklearn-color-line);\n",
              "  margin: 0 0.4em 0.5em 0.4em;\n",
              "  box-sizing: border-box;\n",
              "  padding-bottom: 0.4em;\n",
              "  background-color: var(--sklearn-color-background);\n",
              "}\n",
              "\n",
              "#sk-container-id-1 div.sk-container {\n",
              "  /* jupyter's `normalize.less` sets `[hidden] { display: none; }`\n",
              "     but bootstrap.min.css set `[hidden] { display: none !important; }`\n",
              "     so we also need the `!important` here to be able to override the\n",
              "     default hidden behavior on the sphinx rendered scikit-learn.org.\n",
              "     See: https://github.com/scikit-learn/scikit-learn/issues/21755 */\n",
              "  display: inline-block !important;\n",
              "  position: relative;\n",
              "}\n",
              "\n",
              "#sk-container-id-1 div.sk-text-repr-fallback {\n",
              "  display: none;\n",
              "}\n",
              "\n",
              "div.sk-parallel-item,\n",
              "div.sk-serial,\n",
              "div.sk-item {\n",
              "  /* draw centered vertical line to link estimators */\n",
              "  background-image: linear-gradient(var(--sklearn-color-text-on-default-background), var(--sklearn-color-text-on-default-background));\n",
              "  background-size: 2px 100%;\n",
              "  background-repeat: no-repeat;\n",
              "  background-position: center center;\n",
              "}\n",
              "\n",
              "/* Parallel-specific style estimator block */\n",
              "\n",
              "#sk-container-id-1 div.sk-parallel-item::after {\n",
              "  content: \"\";\n",
              "  width: 100%;\n",
              "  border-bottom: 2px solid var(--sklearn-color-text-on-default-background);\n",
              "  flex-grow: 1;\n",
              "}\n",
              "\n",
              "#sk-container-id-1 div.sk-parallel {\n",
              "  display: flex;\n",
              "  align-items: stretch;\n",
              "  justify-content: center;\n",
              "  background-color: var(--sklearn-color-background);\n",
              "  position: relative;\n",
              "}\n",
              "\n",
              "#sk-container-id-1 div.sk-parallel-item {\n",
              "  display: flex;\n",
              "  flex-direction: column;\n",
              "}\n",
              "\n",
              "#sk-container-id-1 div.sk-parallel-item:first-child::after {\n",
              "  align-self: flex-end;\n",
              "  width: 50%;\n",
              "}\n",
              "\n",
              "#sk-container-id-1 div.sk-parallel-item:last-child::after {\n",
              "  align-self: flex-start;\n",
              "  width: 50%;\n",
              "}\n",
              "\n",
              "#sk-container-id-1 div.sk-parallel-item:only-child::after {\n",
              "  width: 0;\n",
              "}\n",
              "\n",
              "/* Serial-specific style estimator block */\n",
              "\n",
              "#sk-container-id-1 div.sk-serial {\n",
              "  display: flex;\n",
              "  flex-direction: column;\n",
              "  align-items: center;\n",
              "  background-color: var(--sklearn-color-background);\n",
              "  padding-right: 1em;\n",
              "  padding-left: 1em;\n",
              "}\n",
              "\n",
              "\n",
              "/* Toggleable style: style used for estimator/Pipeline/ColumnTransformer box that is\n",
              "clickable and can be expanded/collapsed.\n",
              "- Pipeline and ColumnTransformer use this feature and define the default style\n",
              "- Estimators will overwrite some part of the style using the `sk-estimator` class\n",
              "*/\n",
              "\n",
              "/* Pipeline and ColumnTransformer style (default) */\n",
              "\n",
              "#sk-container-id-1 div.sk-toggleable {\n",
              "  /* Default theme specific background. It is overwritten whether we have a\n",
              "  specific estimator or a Pipeline/ColumnTransformer */\n",
              "  background-color: var(--sklearn-color-background);\n",
              "}\n",
              "\n",
              "/* Toggleable label */\n",
              "#sk-container-id-1 label.sk-toggleable__label {\n",
              "  cursor: pointer;\n",
              "  display: flex;\n",
              "  width: 100%;\n",
              "  margin-bottom: 0;\n",
              "  padding: 0.5em;\n",
              "  box-sizing: border-box;\n",
              "  text-align: center;\n",
              "  align-items: start;\n",
              "  justify-content: space-between;\n",
              "  gap: 0.5em;\n",
              "}\n",
              "\n",
              "#sk-container-id-1 label.sk-toggleable__label .caption {\n",
              "  font-size: 0.6rem;\n",
              "  font-weight: lighter;\n",
              "  color: var(--sklearn-color-text-muted);\n",
              "}\n",
              "\n",
              "#sk-container-id-1 label.sk-toggleable__label-arrow:before {\n",
              "  /* Arrow on the left of the label */\n",
              "  content: \"▸\";\n",
              "  float: left;\n",
              "  margin-right: 0.25em;\n",
              "  color: var(--sklearn-color-icon);\n",
              "}\n",
              "\n",
              "#sk-container-id-1 label.sk-toggleable__label-arrow:hover:before {\n",
              "  color: var(--sklearn-color-text);\n",
              "}\n",
              "\n",
              "/* Toggleable content - dropdown */\n",
              "\n",
              "#sk-container-id-1 div.sk-toggleable__content {\n",
              "  display: none;\n",
              "  text-align: left;\n",
              "  /* unfitted */\n",
              "  background-color: var(--sklearn-color-unfitted-level-0);\n",
              "}\n",
              "\n",
              "#sk-container-id-1 div.sk-toggleable__content.fitted {\n",
              "  /* fitted */\n",
              "  background-color: var(--sklearn-color-fitted-level-0);\n",
              "}\n",
              "\n",
              "#sk-container-id-1 div.sk-toggleable__content pre {\n",
              "  margin: 0.2em;\n",
              "  border-radius: 0.25em;\n",
              "  color: var(--sklearn-color-text);\n",
              "  /* unfitted */\n",
              "  background-color: var(--sklearn-color-unfitted-level-0);\n",
              "}\n",
              "\n",
              "#sk-container-id-1 div.sk-toggleable__content.fitted pre {\n",
              "  /* unfitted */\n",
              "  background-color: var(--sklearn-color-fitted-level-0);\n",
              "}\n",
              "\n",
              "#sk-container-id-1 input.sk-toggleable__control:checked~div.sk-toggleable__content {\n",
              "  /* Expand drop-down */\n",
              "  display: block;\n",
              "  width: 100%;\n",
              "  overflow: visible;\n",
              "}\n",
              "\n",
              "#sk-container-id-1 input.sk-toggleable__control:checked~label.sk-toggleable__label-arrow:before {\n",
              "  content: \"▾\";\n",
              "}\n",
              "\n",
              "/* Pipeline/ColumnTransformer-specific style */\n",
              "\n",
              "#sk-container-id-1 div.sk-label input.sk-toggleable__control:checked~label.sk-toggleable__label {\n",
              "  color: var(--sklearn-color-text);\n",
              "  background-color: var(--sklearn-color-unfitted-level-2);\n",
              "}\n",
              "\n",
              "#sk-container-id-1 div.sk-label.fitted input.sk-toggleable__control:checked~label.sk-toggleable__label {\n",
              "  background-color: var(--sklearn-color-fitted-level-2);\n",
              "}\n",
              "\n",
              "/* Estimator-specific style */\n",
              "\n",
              "/* Colorize estimator box */\n",
              "#sk-container-id-1 div.sk-estimator input.sk-toggleable__control:checked~label.sk-toggleable__label {\n",
              "  /* unfitted */\n",
              "  background-color: var(--sklearn-color-unfitted-level-2);\n",
              "}\n",
              "\n",
              "#sk-container-id-1 div.sk-estimator.fitted input.sk-toggleable__control:checked~label.sk-toggleable__label {\n",
              "  /* fitted */\n",
              "  background-color: var(--sklearn-color-fitted-level-2);\n",
              "}\n",
              "\n",
              "#sk-container-id-1 div.sk-label label.sk-toggleable__label,\n",
              "#sk-container-id-1 div.sk-label label {\n",
              "  /* The background is the default theme color */\n",
              "  color: var(--sklearn-color-text-on-default-background);\n",
              "}\n",
              "\n",
              "/* On hover, darken the color of the background */\n",
              "#sk-container-id-1 div.sk-label:hover label.sk-toggleable__label {\n",
              "  color: var(--sklearn-color-text);\n",
              "  background-color: var(--sklearn-color-unfitted-level-2);\n",
              "}\n",
              "\n",
              "/* Label box, darken color on hover, fitted */\n",
              "#sk-container-id-1 div.sk-label.fitted:hover label.sk-toggleable__label.fitted {\n",
              "  color: var(--sklearn-color-text);\n",
              "  background-color: var(--sklearn-color-fitted-level-2);\n",
              "}\n",
              "\n",
              "/* Estimator label */\n",
              "\n",
              "#sk-container-id-1 div.sk-label label {\n",
              "  font-family: monospace;\n",
              "  font-weight: bold;\n",
              "  display: inline-block;\n",
              "  line-height: 1.2em;\n",
              "}\n",
              "\n",
              "#sk-container-id-1 div.sk-label-container {\n",
              "  text-align: center;\n",
              "}\n",
              "\n",
              "/* Estimator-specific */\n",
              "#sk-container-id-1 div.sk-estimator {\n",
              "  font-family: monospace;\n",
              "  border: 1px dotted var(--sklearn-color-border-box);\n",
              "  border-radius: 0.25em;\n",
              "  box-sizing: border-box;\n",
              "  margin-bottom: 0.5em;\n",
              "  /* unfitted */\n",
              "  background-color: var(--sklearn-color-unfitted-level-0);\n",
              "}\n",
              "\n",
              "#sk-container-id-1 div.sk-estimator.fitted {\n",
              "  /* fitted */\n",
              "  background-color: var(--sklearn-color-fitted-level-0);\n",
              "}\n",
              "\n",
              "/* on hover */\n",
              "#sk-container-id-1 div.sk-estimator:hover {\n",
              "  /* unfitted */\n",
              "  background-color: var(--sklearn-color-unfitted-level-2);\n",
              "}\n",
              "\n",
              "#sk-container-id-1 div.sk-estimator.fitted:hover {\n",
              "  /* fitted */\n",
              "  background-color: var(--sklearn-color-fitted-level-2);\n",
              "}\n",
              "\n",
              "/* Specification for estimator info (e.g. \"i\" and \"?\") */\n",
              "\n",
              "/* Common style for \"i\" and \"?\" */\n",
              "\n",
              ".sk-estimator-doc-link,\n",
              "a:link.sk-estimator-doc-link,\n",
              "a:visited.sk-estimator-doc-link {\n",
              "  float: right;\n",
              "  font-size: smaller;\n",
              "  line-height: 1em;\n",
              "  font-family: monospace;\n",
              "  background-color: var(--sklearn-color-background);\n",
              "  border-radius: 1em;\n",
              "  height: 1em;\n",
              "  width: 1em;\n",
              "  text-decoration: none !important;\n",
              "  margin-left: 0.5em;\n",
              "  text-align: center;\n",
              "  /* unfitted */\n",
              "  border: var(--sklearn-color-unfitted-level-1) 1pt solid;\n",
              "  color: var(--sklearn-color-unfitted-level-1);\n",
              "}\n",
              "\n",
              ".sk-estimator-doc-link.fitted,\n",
              "a:link.sk-estimator-doc-link.fitted,\n",
              "a:visited.sk-estimator-doc-link.fitted {\n",
              "  /* fitted */\n",
              "  border: var(--sklearn-color-fitted-level-1) 1pt solid;\n",
              "  color: var(--sklearn-color-fitted-level-1);\n",
              "}\n",
              "\n",
              "/* On hover */\n",
              "div.sk-estimator:hover .sk-estimator-doc-link:hover,\n",
              ".sk-estimator-doc-link:hover,\n",
              "div.sk-label-container:hover .sk-estimator-doc-link:hover,\n",
              ".sk-estimator-doc-link:hover {\n",
              "  /* unfitted */\n",
              "  background-color: var(--sklearn-color-unfitted-level-3);\n",
              "  color: var(--sklearn-color-background);\n",
              "  text-decoration: none;\n",
              "}\n",
              "\n",
              "div.sk-estimator.fitted:hover .sk-estimator-doc-link.fitted:hover,\n",
              ".sk-estimator-doc-link.fitted:hover,\n",
              "div.sk-label-container:hover .sk-estimator-doc-link.fitted:hover,\n",
              ".sk-estimator-doc-link.fitted:hover {\n",
              "  /* fitted */\n",
              "  background-color: var(--sklearn-color-fitted-level-3);\n",
              "  color: var(--sklearn-color-background);\n",
              "  text-decoration: none;\n",
              "}\n",
              "\n",
              "/* Span, style for the box shown on hovering the info icon */\n",
              ".sk-estimator-doc-link span {\n",
              "  display: none;\n",
              "  z-index: 9999;\n",
              "  position: relative;\n",
              "  font-weight: normal;\n",
              "  right: .2ex;\n",
              "  padding: .5ex;\n",
              "  margin: .5ex;\n",
              "  width: min-content;\n",
              "  min-width: 20ex;\n",
              "  max-width: 50ex;\n",
              "  color: var(--sklearn-color-text);\n",
              "  box-shadow: 2pt 2pt 4pt #999;\n",
              "  /* unfitted */\n",
              "  background: var(--sklearn-color-unfitted-level-0);\n",
              "  border: .5pt solid var(--sklearn-color-unfitted-level-3);\n",
              "}\n",
              "\n",
              ".sk-estimator-doc-link.fitted span {\n",
              "  /* fitted */\n",
              "  background: var(--sklearn-color-fitted-level-0);\n",
              "  border: var(--sklearn-color-fitted-level-3);\n",
              "}\n",
              "\n",
              ".sk-estimator-doc-link:hover span {\n",
              "  display: block;\n",
              "}\n",
              "\n",
              "/* \"?\"-specific style due to the `<a>` HTML tag */\n",
              "\n",
              "#sk-container-id-1 a.estimator_doc_link {\n",
              "  float: right;\n",
              "  font-size: 1rem;\n",
              "  line-height: 1em;\n",
              "  font-family: monospace;\n",
              "  background-color: var(--sklearn-color-background);\n",
              "  border-radius: 1rem;\n",
              "  height: 1rem;\n",
              "  width: 1rem;\n",
              "  text-decoration: none;\n",
              "  /* unfitted */\n",
              "  color: var(--sklearn-color-unfitted-level-1);\n",
              "  border: var(--sklearn-color-unfitted-level-1) 1pt solid;\n",
              "}\n",
              "\n",
              "#sk-container-id-1 a.estimator_doc_link.fitted {\n",
              "  /* fitted */\n",
              "  border: var(--sklearn-color-fitted-level-1) 1pt solid;\n",
              "  color: var(--sklearn-color-fitted-level-1);\n",
              "}\n",
              "\n",
              "/* On hover */\n",
              "#sk-container-id-1 a.estimator_doc_link:hover {\n",
              "  /* unfitted */\n",
              "  background-color: var(--sklearn-color-unfitted-level-3);\n",
              "  color: var(--sklearn-color-background);\n",
              "  text-decoration: none;\n",
              "}\n",
              "\n",
              "#sk-container-id-1 a.estimator_doc_link.fitted:hover {\n",
              "  /* fitted */\n",
              "  background-color: var(--sklearn-color-fitted-level-3);\n",
              "}\n",
              "\n",
              ".estimator-table summary {\n",
              "    padding: .5rem;\n",
              "    font-family: monospace;\n",
              "    cursor: pointer;\n",
              "}\n",
              "\n",
              ".estimator-table details[open] {\n",
              "    padding-left: 0.1rem;\n",
              "    padding-right: 0.1rem;\n",
              "    padding-bottom: 0.3rem;\n",
              "}\n",
              "\n",
              ".estimator-table .parameters-table {\n",
              "    margin-left: auto !important;\n",
              "    margin-right: auto !important;\n",
              "}\n",
              "\n",
              ".estimator-table .parameters-table tr:nth-child(odd) {\n",
              "    background-color: #fff;\n",
              "}\n",
              "\n",
              ".estimator-table .parameters-table tr:nth-child(even) {\n",
              "    background-color: #f6f6f6;\n",
              "}\n",
              "\n",
              ".estimator-table .parameters-table tr:hover {\n",
              "    background-color: #e0e0e0;\n",
              "}\n",
              "\n",
              ".estimator-table table td {\n",
              "    border: 1px solid rgba(106, 105, 104, 0.232);\n",
              "}\n",
              "\n",
              ".user-set td {\n",
              "    color:rgb(255, 94, 0);\n",
              "    text-align: left;\n",
              "}\n",
              "\n",
              ".user-set td.value pre {\n",
              "    color:rgb(255, 94, 0) !important;\n",
              "    background-color: transparent !important;\n",
              "}\n",
              "\n",
              ".default td {\n",
              "    color: black;\n",
              "    text-align: left;\n",
              "}\n",
              "\n",
              ".user-set td i,\n",
              ".default td i {\n",
              "    color: black;\n",
              "}\n",
              "\n",
              ".copy-paste-icon {\n",
              "    background-image: url(data:image/svg+xml;base64,PHN2ZyB4bWxucz0iaHR0cDovL3d3dy53My5vcmcvMjAwMC9zdmciIHZpZXdCb3g9IjAgMCA0NDggNTEyIj48IS0tIUZvbnQgQXdlc29tZSBGcmVlIDYuNy4yIGJ5IEBmb250YXdlc29tZSAtIGh0dHBzOi8vZm9udGF3ZXNvbWUuY29tIExpY2Vuc2UgLSBodHRwczovL2ZvbnRhd2Vzb21lLmNvbS9saWNlbnNlL2ZyZWUgQ29weXJpZ2h0IDIwMjUgRm9udGljb25zLCBJbmMuLS0+PHBhdGggZD0iTTIwOCAwTDMzMi4xIDBjMTIuNyAwIDI0LjkgNS4xIDMzLjkgMTQuMWw2Ny45IDY3LjljOSA5IDE0LjEgMjEuMiAxNC4xIDMzLjlMNDQ4IDMzNmMwIDI2LjUtMjEuNSA0OC00OCA0OGwtMTkyIDBjLTI2LjUgMC00OC0yMS41LTQ4LTQ4bDAtMjg4YzAtMjYuNSAyMS41LTQ4IDQ4LTQ4ek00OCAxMjhsODAgMCAwIDY0LTY0IDAgMCAyNTYgMTkyIDAgMC0zMiA2NCAwIDAgNDhjMCAyNi41LTIxLjUgNDgtNDggNDhMNDggNTEyYy0yNi41IDAtNDgtMjEuNS00OC00OEwwIDE3NmMwLTI2LjUgMjEuNS00OCA0OC00OHoiLz48L3N2Zz4=);\n",
              "    background-repeat: no-repeat;\n",
              "    background-size: 14px 14px;\n",
              "    background-position: 0;\n",
              "    display: inline-block;\n",
              "    width: 14px;\n",
              "    height: 14px;\n",
              "    cursor: pointer;\n",
              "}\n",
              "</style><body><div id=\"sk-container-id-1\" class=\"sk-top-container\"><div class=\"sk-text-repr-fallback\"><pre>Pipeline(steps=[(&#x27;standardscaler&#x27;, StandardScaler()),\n",
              "                (&#x27;ridge&#x27;, Ridge(alpha=0.5))])</pre><b>In a Jupyter environment, please rerun this cell to show the HTML representation or trust the notebook. <br />On GitHub, the HTML representation is unable to render, please try loading this page with nbviewer.org.</b></div><div class=\"sk-container\" hidden><div class=\"sk-item sk-dashed-wrapped\"><div class=\"sk-label-container\"><div class=\"sk-label fitted sk-toggleable\"><input class=\"sk-toggleable__control sk-hidden--visually\" id=\"sk-estimator-id-1\" type=\"checkbox\" ><label for=\"sk-estimator-id-1\" class=\"sk-toggleable__label fitted sk-toggleable__label-arrow\"><div><div>Pipeline</div></div><div><a class=\"sk-estimator-doc-link fitted\" rel=\"noreferrer\" target=\"_blank\" href=\"https://scikit-learn.org/1.7/modules/generated/sklearn.pipeline.Pipeline.html\">?<span>Documentation for Pipeline</span></a><span class=\"sk-estimator-doc-link fitted\">i<span>Fitted</span></span></div></label><div class=\"sk-toggleable__content fitted\" data-param-prefix=\"\">\n",
              "        <div class=\"estimator-table\">\n",
              "            <details>\n",
              "                <summary>Parameters</summary>\n",
              "                <table class=\"parameters-table\">\n",
              "                  <tbody>\n",
              "                    \n",
              "        <tr class=\"user-set\">\n",
              "            <td><i class=\"copy-paste-icon\"\n",
              "                 onclick=\"copyToClipboard('steps',\n",
              "                          this.parentElement.nextElementSibling)\"\n",
              "            ></i></td>\n",
              "            <td class=\"param\">steps&nbsp;</td>\n",
              "            <td class=\"value\">[(&#x27;standardscaler&#x27;, ...), (&#x27;ridge&#x27;, ...)]</td>\n",
              "        </tr>\n",
              "    \n",
              "\n",
              "        <tr class=\"default\">\n",
              "            <td><i class=\"copy-paste-icon\"\n",
              "                 onclick=\"copyToClipboard('transform_input',\n",
              "                          this.parentElement.nextElementSibling)\"\n",
              "            ></i></td>\n",
              "            <td class=\"param\">transform_input&nbsp;</td>\n",
              "            <td class=\"value\">None</td>\n",
              "        </tr>\n",
              "    \n",
              "\n",
              "        <tr class=\"default\">\n",
              "            <td><i class=\"copy-paste-icon\"\n",
              "                 onclick=\"copyToClipboard('memory',\n",
              "                          this.parentElement.nextElementSibling)\"\n",
              "            ></i></td>\n",
              "            <td class=\"param\">memory&nbsp;</td>\n",
              "            <td class=\"value\">None</td>\n",
              "        </tr>\n",
              "    \n",
              "\n",
              "        <tr class=\"default\">\n",
              "            <td><i class=\"copy-paste-icon\"\n",
              "                 onclick=\"copyToClipboard('verbose',\n",
              "                          this.parentElement.nextElementSibling)\"\n",
              "            ></i></td>\n",
              "            <td class=\"param\">verbose&nbsp;</td>\n",
              "            <td class=\"value\">False</td>\n",
              "        </tr>\n",
              "    \n",
              "                  </tbody>\n",
              "                </table>\n",
              "            </details>\n",
              "        </div>\n",
              "    </div></div></div><div class=\"sk-serial\"><div class=\"sk-item\"><div class=\"sk-estimator fitted sk-toggleable\"><input class=\"sk-toggleable__control sk-hidden--visually\" id=\"sk-estimator-id-2\" type=\"checkbox\" ><label for=\"sk-estimator-id-2\" class=\"sk-toggleable__label fitted sk-toggleable__label-arrow\"><div><div>StandardScaler</div></div><div><a class=\"sk-estimator-doc-link fitted\" rel=\"noreferrer\" target=\"_blank\" href=\"https://scikit-learn.org/1.7/modules/generated/sklearn.preprocessing.StandardScaler.html\">?<span>Documentation for StandardScaler</span></a></div></label><div class=\"sk-toggleable__content fitted\" data-param-prefix=\"standardscaler__\">\n",
              "        <div class=\"estimator-table\">\n",
              "            <details>\n",
              "                <summary>Parameters</summary>\n",
              "                <table class=\"parameters-table\">\n",
              "                  <tbody>\n",
              "                    \n",
              "        <tr class=\"default\">\n",
              "            <td><i class=\"copy-paste-icon\"\n",
              "                 onclick=\"copyToClipboard('copy',\n",
              "                          this.parentElement.nextElementSibling)\"\n",
              "            ></i></td>\n",
              "            <td class=\"param\">copy&nbsp;</td>\n",
              "            <td class=\"value\">True</td>\n",
              "        </tr>\n",
              "    \n",
              "\n",
              "        <tr class=\"default\">\n",
              "            <td><i class=\"copy-paste-icon\"\n",
              "                 onclick=\"copyToClipboard('with_mean',\n",
              "                          this.parentElement.nextElementSibling)\"\n",
              "            ></i></td>\n",
              "            <td class=\"param\">with_mean&nbsp;</td>\n",
              "            <td class=\"value\">True</td>\n",
              "        </tr>\n",
              "    \n",
              "\n",
              "        <tr class=\"default\">\n",
              "            <td><i class=\"copy-paste-icon\"\n",
              "                 onclick=\"copyToClipboard('with_std',\n",
              "                          this.parentElement.nextElementSibling)\"\n",
              "            ></i></td>\n",
              "            <td class=\"param\">with_std&nbsp;</td>\n",
              "            <td class=\"value\">True</td>\n",
              "        </tr>\n",
              "    \n",
              "                  </tbody>\n",
              "                </table>\n",
              "            </details>\n",
              "        </div>\n",
              "    </div></div></div><div class=\"sk-item\"><div class=\"sk-estimator fitted sk-toggleable\"><input class=\"sk-toggleable__control sk-hidden--visually\" id=\"sk-estimator-id-3\" type=\"checkbox\" ><label for=\"sk-estimator-id-3\" class=\"sk-toggleable__label fitted sk-toggleable__label-arrow\"><div><div>Ridge</div></div><div><a class=\"sk-estimator-doc-link fitted\" rel=\"noreferrer\" target=\"_blank\" href=\"https://scikit-learn.org/1.7/modules/generated/sklearn.linear_model.Ridge.html\">?<span>Documentation for Ridge</span></a></div></label><div class=\"sk-toggleable__content fitted\" data-param-prefix=\"ridge__\">\n",
              "        <div class=\"estimator-table\">\n",
              "            <details>\n",
              "                <summary>Parameters</summary>\n",
              "                <table class=\"parameters-table\">\n",
              "                  <tbody>\n",
              "                    \n",
              "        <tr class=\"user-set\">\n",
              "            <td><i class=\"copy-paste-icon\"\n",
              "                 onclick=\"copyToClipboard('alpha',\n",
              "                          this.parentElement.nextElementSibling)\"\n",
              "            ></i></td>\n",
              "            <td class=\"param\">alpha&nbsp;</td>\n",
              "            <td class=\"value\">0.5</td>\n",
              "        </tr>\n",
              "    \n",
              "\n",
              "        <tr class=\"default\">\n",
              "            <td><i class=\"copy-paste-icon\"\n",
              "                 onclick=\"copyToClipboard('fit_intercept',\n",
              "                          this.parentElement.nextElementSibling)\"\n",
              "            ></i></td>\n",
              "            <td class=\"param\">fit_intercept&nbsp;</td>\n",
              "            <td class=\"value\">True</td>\n",
              "        </tr>\n",
              "    \n",
              "\n",
              "        <tr class=\"default\">\n",
              "            <td><i class=\"copy-paste-icon\"\n",
              "                 onclick=\"copyToClipboard('copy_X',\n",
              "                          this.parentElement.nextElementSibling)\"\n",
              "            ></i></td>\n",
              "            <td class=\"param\">copy_X&nbsp;</td>\n",
              "            <td class=\"value\">True</td>\n",
              "        </tr>\n",
              "    \n",
              "\n",
              "        <tr class=\"default\">\n",
              "            <td><i class=\"copy-paste-icon\"\n",
              "                 onclick=\"copyToClipboard('max_iter',\n",
              "                          this.parentElement.nextElementSibling)\"\n",
              "            ></i></td>\n",
              "            <td class=\"param\">max_iter&nbsp;</td>\n",
              "            <td class=\"value\">None</td>\n",
              "        </tr>\n",
              "    \n",
              "\n",
              "        <tr class=\"default\">\n",
              "            <td><i class=\"copy-paste-icon\"\n",
              "                 onclick=\"copyToClipboard('tol',\n",
              "                          this.parentElement.nextElementSibling)\"\n",
              "            ></i></td>\n",
              "            <td class=\"param\">tol&nbsp;</td>\n",
              "            <td class=\"value\">0.0001</td>\n",
              "        </tr>\n",
              "    \n",
              "\n",
              "        <tr class=\"default\">\n",
              "            <td><i class=\"copy-paste-icon\"\n",
              "                 onclick=\"copyToClipboard('solver',\n",
              "                          this.parentElement.nextElementSibling)\"\n",
              "            ></i></td>\n",
              "            <td class=\"param\">solver&nbsp;</td>\n",
              "            <td class=\"value\">&#x27;auto&#x27;</td>\n",
              "        </tr>\n",
              "    \n",
              "\n",
              "        <tr class=\"default\">\n",
              "            <td><i class=\"copy-paste-icon\"\n",
              "                 onclick=\"copyToClipboard('positive',\n",
              "                          this.parentElement.nextElementSibling)\"\n",
              "            ></i></td>\n",
              "            <td class=\"param\">positive&nbsp;</td>\n",
              "            <td class=\"value\">False</td>\n",
              "        </tr>\n",
              "    \n",
              "\n",
              "        <tr class=\"default\">\n",
              "            <td><i class=\"copy-paste-icon\"\n",
              "                 onclick=\"copyToClipboard('random_state',\n",
              "                          this.parentElement.nextElementSibling)\"\n",
              "            ></i></td>\n",
              "            <td class=\"param\">random_state&nbsp;</td>\n",
              "            <td class=\"value\">None</td>\n",
              "        </tr>\n",
              "    \n",
              "                  </tbody>\n",
              "                </table>\n",
              "            </details>\n",
              "        </div>\n",
              "    </div></div></div></div></div></div></div><script>function copyToClipboard(text, element) {\n",
              "    // Get the parameter prefix from the closest toggleable content\n",
              "    const toggleableContent = element.closest('.sk-toggleable__content');\n",
              "    const paramPrefix = toggleableContent ? toggleableContent.dataset.paramPrefix : '';\n",
              "    const fullParamName = paramPrefix ? `${paramPrefix}${text}` : text;\n",
              "\n",
              "    const originalStyle = element.style;\n",
              "    const computedStyle = window.getComputedStyle(element);\n",
              "    const originalWidth = computedStyle.width;\n",
              "    const originalHTML = element.innerHTML.replace('Copied!', '');\n",
              "\n",
              "    navigator.clipboard.writeText(fullParamName)\n",
              "        .then(() => {\n",
              "            element.style.width = originalWidth;\n",
              "            element.style.color = 'green';\n",
              "            element.innerHTML = \"Copied!\";\n",
              "\n",
              "            setTimeout(() => {\n",
              "                element.innerHTML = originalHTML;\n",
              "                element.style = originalStyle;\n",
              "            }, 2000);\n",
              "        })\n",
              "        .catch(err => {\n",
              "            console.error('Failed to copy:', err);\n",
              "            element.style.color = 'red';\n",
              "            element.innerHTML = \"Failed!\";\n",
              "            setTimeout(() => {\n",
              "                element.innerHTML = originalHTML;\n",
              "                element.style = originalStyle;\n",
              "            }, 2000);\n",
              "        });\n",
              "    return false;\n",
              "}\n",
              "\n",
              "document.querySelectorAll('.fa-regular.fa-copy').forEach(function(element) {\n",
              "    const toggleableContent = element.closest('.sk-toggleable__content');\n",
              "    const paramPrefix = toggleableContent ? toggleableContent.dataset.paramPrefix : '';\n",
              "    const paramName = element.parentElement.nextElementSibling.textContent.trim();\n",
              "    const fullParamName = paramPrefix ? `${paramPrefix}${paramName}` : paramName;\n",
              "\n",
              "    element.setAttribute('title', fullParamName);\n",
              "});\n",
              "</script></body>"
            ],
            "text/plain": [
              "Pipeline(steps=[('standardscaler', StandardScaler()),\n",
              "                ('ridge', Ridge(alpha=0.5))])"
            ]
          },
          "execution_count": 10,
          "metadata": {},
          "output_type": "execute_result"
        }
      ],
      "source": [
        "rf = RandomForestRegressor(n_estimators=100, random_state=42)\n",
        "ridge = make_pipeline(StandardScaler(), Ridge(alpha=0.5))\n",
        "\n",
        "rf.fit(X, y)\n",
        "ridge.fit(X, y)"
      ]
    },
    {
      "cell_type": "code",
      "execution_count": 11,
      "metadata": {
        "id": "Z8MhVhvAtrVc"
      },
      "outputs": [],
      "source": [
        "pred_rf = rf.predict(X)\n",
        "pred_ridge = ridge.predict(X)\n",
        "y_pred = (pred_rf + pred_ridge) / 2\n",
        "daily_df['Predicted_Price'] = y_pred"
      ]
    },
    {
      "cell_type": "markdown",
      "metadata": {
        "id": "RZOQP_WQzqAf"
      },
      "source": [
        "## Model Evaluation – Actual vs Predicted Prices\n",
        "\n",
        "We evaluate our model using MAE (Mean Absolute Error) and RMSE (Root Mean Square Error)."
      ]
    },
    {
      "cell_type": "code",
      "execution_count": 12,
      "metadata": {
        "colab": {
          "base_uri": "https://localhost:8080/"
        },
        "id": "qZMl-Rz-tuDX",
        "outputId": "d20dd39d-ea70-4487-f298-54633374ec9b"
      },
      "outputs": [
        {
          "name": "stdout",
          "output_type": "stream",
          "text": [
            " MAE (full): 7.02\n",
            " RMSE (full): 10.57\n"
          ]
        }
      ],
      "source": [
        "mae = mean_absolute_error(daily_df['Target'], daily_df['Predicted_Price'])\n",
        "rmse = np.sqrt(mean_squared_error(daily_df['Target'], daily_df['Predicted_Price']))\n",
        "\n",
        "print(f\" MAE (full): {mae:.2f}\")\n",
        "print(f\" RMSE (full): {rmse:.2f}\")"
      ]
    },
    {
      "cell_type": "markdown",
      "metadata": {
        "id": "Ysb7VB3n4h2H"
      },
      "source": [
        "## Recursive Multi-Day Price Forecasting (Next 10 Days)\n"
      ]
    },
    {
      "cell_type": "code",
      "execution_count": 13,
      "metadata": {
        "colab": {
          "base_uri": "https://localhost:8080/"
        },
        "id": "l7sQYOnk0UPH",
        "outputId": "f50d06ee-c58e-4fca-9413-7d119ca3aa43"
      },
      "outputs": [
        {
          "name": "stderr",
          "output_type": "stream",
          "text": [
            "C:\\Users\\home\\AppData\\Local\\Temp\\ipykernel_27368\\237485730.py:53: FutureWarning: The behavior of DataFrame concatenation with empty or all-NA entries is deprecated. In a future version, this will no longer exclude empty or all-NA columns when determining the result dtypes. To retain the old behavior, exclude the relevant entries before the concat operation.\n",
            "  future_df = pd.concat([future_df, new_row])\n",
            "C:\\Users\\home\\AppData\\Local\\Temp\\ipykernel_27368\\237485730.py:53: FutureWarning: The behavior of DataFrame concatenation with empty or all-NA entries is deprecated. In a future version, this will no longer exclude empty or all-NA columns when determining the result dtypes. To retain the old behavior, exclude the relevant entries before the concat operation.\n",
            "  future_df = pd.concat([future_df, new_row])\n",
            "C:\\Users\\home\\AppData\\Local\\Temp\\ipykernel_27368\\237485730.py:53: FutureWarning: The behavior of DataFrame concatenation with empty or all-NA entries is deprecated. In a future version, this will no longer exclude empty or all-NA columns when determining the result dtypes. To retain the old behavior, exclude the relevant entries before the concat operation.\n",
            "  future_df = pd.concat([future_df, new_row])\n",
            "C:\\Users\\home\\AppData\\Local\\Temp\\ipykernel_27368\\237485730.py:53: FutureWarning: The behavior of DataFrame concatenation with empty or all-NA entries is deprecated. In a future version, this will no longer exclude empty or all-NA columns when determining the result dtypes. To retain the old behavior, exclude the relevant entries before the concat operation.\n",
            "  future_df = pd.concat([future_df, new_row])\n",
            "C:\\Users\\home\\AppData\\Local\\Temp\\ipykernel_27368\\237485730.py:53: FutureWarning: The behavior of DataFrame concatenation with empty or all-NA entries is deprecated. In a future version, this will no longer exclude empty or all-NA columns when determining the result dtypes. To retain the old behavior, exclude the relevant entries before the concat operation.\n",
            "  future_df = pd.concat([future_df, new_row])\n",
            "C:\\Users\\home\\AppData\\Local\\Temp\\ipykernel_27368\\237485730.py:53: FutureWarning: The behavior of DataFrame concatenation with empty or all-NA entries is deprecated. In a future version, this will no longer exclude empty or all-NA columns when determining the result dtypes. To retain the old behavior, exclude the relevant entries before the concat operation.\n",
            "  future_df = pd.concat([future_df, new_row])\n",
            "C:\\Users\\home\\AppData\\Local\\Temp\\ipykernel_27368\\237485730.py:53: FutureWarning: The behavior of DataFrame concatenation with empty or all-NA entries is deprecated. In a future version, this will no longer exclude empty or all-NA columns when determining the result dtypes. To retain the old behavior, exclude the relevant entries before the concat operation.\n",
            "  future_df = pd.concat([future_df, new_row])\n",
            "C:\\Users\\home\\AppData\\Local\\Temp\\ipykernel_27368\\237485730.py:53: FutureWarning: The behavior of DataFrame concatenation with empty or all-NA entries is deprecated. In a future version, this will no longer exclude empty or all-NA columns when determining the result dtypes. To retain the old behavior, exclude the relevant entries before the concat operation.\n",
            "  future_df = pd.concat([future_df, new_row])\n",
            "C:\\Users\\home\\AppData\\Local\\Temp\\ipykernel_27368\\237485730.py:53: FutureWarning: The behavior of DataFrame concatenation with empty or all-NA entries is deprecated. In a future version, this will no longer exclude empty or all-NA columns when determining the result dtypes. To retain the old behavior, exclude the relevant entries before the concat operation.\n",
            "  future_df = pd.concat([future_df, new_row])\n",
            "C:\\Users\\home\\AppData\\Local\\Temp\\ipykernel_27368\\237485730.py:53: FutureWarning: The behavior of DataFrame concatenation with empty or all-NA entries is deprecated. In a future version, this will no longer exclude empty or all-NA columns when determining the result dtypes. To retain the old behavior, exclude the relevant entries before the concat operation.\n",
            "  future_df = pd.concat([future_df, new_row])\n"
          ]
        }
      ],
      "source": [
        "# Copy latest dataset\n",
        "future_df = daily_df.copy()\n",
        "\n",
        "# Store predicted prices\n",
        "future_preds = []\n",
        "\n",
        "# Predict next 10 days recursively\n",
        "for i in range(10):\n",
        "    last_date = future_df.index[-1]\n",
        "    next_date = last_date + timedelta(days=1)\n",
        "\n",
        "    # Calculate features using latest data\n",
        "    temp_df = future_df.copy()\n",
        "\n",
        "    ma_3 = temp_df['Price'].iloc[-3:].mean()\n",
        "    ma_7 = temp_df['Price'].iloc[-7:].mean()\n",
        "    ma_14 = temp_df['Price'].iloc[-14:].mean()\n",
        "    return_1 = (temp_df['Price'].iloc[-1] - temp_df['Price'].iloc[-2]) / temp_df['Price'].iloc[-2]\n",
        "    volatility_7 = temp_df['Price'].iloc[-7:].std()\n",
        "    momentum_3 = temp_df['Price'].iloc[-1] - temp_df['Price'].iloc[-4]\n",
        "    roc_3 = (temp_df['Price'].iloc[-1] - temp_df['Price'].iloc[-4]) / temp_df['Price'].iloc[-4]\n",
        "\n",
        "    # RSI\n",
        "    delta = temp_df['Price'].diff()\n",
        "    gain = delta.clip(lower=0).rolling(14).mean().iloc[-1]\n",
        "    loss = -delta.clip(upper=0).rolling(14).mean().iloc[-1]\n",
        "    rs = gain / loss if loss != 0 else 0\n",
        "    rsi_14 = 100 - (100 / (1 + rs))\n",
        "\n",
        "    # Build feature row\n",
        "    feature_row = pd.DataFrame([{\n",
        "        'Price': temp_df['Price'].iloc[-1],\n",
        "        'MA_3': ma_3,\n",
        "        'MA_7': ma_7,\n",
        "        'MA_14': ma_14,\n",
        "        'Return_1': return_1,\n",
        "        'Volatility_7': volatility_7,\n",
        "        'Momentum_3': momentum_3,\n",
        "        'ROC_3': roc_3,\n",
        "        'RSI_14': rsi_14\n",
        "    }], index=[next_date])\n",
        "\n",
        "    # Predict next day's price\n",
        "    pred_rf = rf.predict(feature_row)[0]\n",
        "    pred_ridge = ridge.predict(feature_row)[0]\n",
        "    predicted_price = (pred_rf + pred_ridge) / 2\n",
        "\n",
        "    # Append to DataFrame\n",
        "    new_row = feature_row.copy()\n",
        "    new_row['Price'] = predicted_price\n",
        "    new_row['Target'] = None\n",
        "    new_row['Predicted_Price'] = predicted_price\n",
        "    future_df = pd.concat([future_df, new_row])\n",
        "    future_preds.append((next_date, predicted_price))\n"
      ]
    },
    {
      "cell_type": "code",
      "execution_count": 14,
      "metadata": {
        "colab": {
          "base_uri": "https://localhost:8080/",
          "height": 412
        },
        "id": "7K_6lcYutzcf",
        "outputId": "d48f4f63-9d34-4f63-a7be-12b895cd2b15"
      },
      "outputs": [
        {
          "name": "stdout",
          "output_type": "stream",
          "text": [
            " Next 10 Days Gold Price Predictions\n"
          ]
        },
        {
          "data": {
            "application/vnd.microsoft.datawrangler.viewer.v0+json": {
              "columns": [
                {
                  "name": "Date",
                  "rawType": "datetime64[ns]",
                  "type": "datetime"
                },
                {
                  "name": "Predicted_Price",
                  "rawType": "float64",
                  "type": "float"
                }
              ],
              "ref": "f36ec9ff-b6df-4240-82e2-bc0d15656f0f",
              "rows": [
                [
                  "2025-07-15 00:00:00",
                  "3347.033305290981"
                ],
                [
                  "2025-07-16 00:00:00",
                  "3345.603801032744"
                ],
                [
                  "2025-07-17 00:00:00",
                  "3338.1030876970617"
                ],
                [
                  "2025-07-18 00:00:00",
                  "3329.8161329446043"
                ],
                [
                  "2025-07-19 00:00:00",
                  "3336.2440838098064"
                ],
                [
                  "2025-07-20 00:00:00",
                  "3334.1254847395094"
                ],
                [
                  "2025-07-21 00:00:00",
                  "3335.855003613745"
                ],
                [
                  "2025-07-22 00:00:00",
                  "3340.932112106395"
                ],
                [
                  "2025-07-23 00:00:00",
                  "3340.9720154762854"
                ],
                [
                  "2025-07-24 00:00:00",
                  "3341.3069723157178"
                ]
              ],
              "shape": {
                "columns": 1,
                "rows": 10
              }
            },
            "text/html": [
              "<div>\n",
              "<style scoped>\n",
              "    .dataframe tbody tr th:only-of-type {\n",
              "        vertical-align: middle;\n",
              "    }\n",
              "\n",
              "    .dataframe tbody tr th {\n",
              "        vertical-align: top;\n",
              "    }\n",
              "\n",
              "    .dataframe thead th {\n",
              "        text-align: right;\n",
              "    }\n",
              "</style>\n",
              "<table border=\"1\" class=\"dataframe\">\n",
              "  <thead>\n",
              "    <tr style=\"text-align: right;\">\n",
              "      <th></th>\n",
              "      <th>Predicted_Price</th>\n",
              "    </tr>\n",
              "    <tr>\n",
              "      <th>Date</th>\n",
              "      <th></th>\n",
              "    </tr>\n",
              "  </thead>\n",
              "  <tbody>\n",
              "    <tr>\n",
              "      <th>2025-07-15</th>\n",
              "      <td>3347.033305</td>\n",
              "    </tr>\n",
              "    <tr>\n",
              "      <th>2025-07-16</th>\n",
              "      <td>3345.603801</td>\n",
              "    </tr>\n",
              "    <tr>\n",
              "      <th>2025-07-17</th>\n",
              "      <td>3338.103088</td>\n",
              "    </tr>\n",
              "    <tr>\n",
              "      <th>2025-07-18</th>\n",
              "      <td>3329.816133</td>\n",
              "    </tr>\n",
              "    <tr>\n",
              "      <th>2025-07-19</th>\n",
              "      <td>3336.244084</td>\n",
              "    </tr>\n",
              "    <tr>\n",
              "      <th>2025-07-20</th>\n",
              "      <td>3334.125485</td>\n",
              "    </tr>\n",
              "    <tr>\n",
              "      <th>2025-07-21</th>\n",
              "      <td>3335.855004</td>\n",
              "    </tr>\n",
              "    <tr>\n",
              "      <th>2025-07-22</th>\n",
              "      <td>3340.932112</td>\n",
              "    </tr>\n",
              "    <tr>\n",
              "      <th>2025-07-23</th>\n",
              "      <td>3340.972015</td>\n",
              "    </tr>\n",
              "    <tr>\n",
              "      <th>2025-07-24</th>\n",
              "      <td>3341.306972</td>\n",
              "    </tr>\n",
              "  </tbody>\n",
              "</table>\n",
              "</div>"
            ],
            "text/plain": [
              "            Predicted_Price\n",
              "Date                       \n",
              "2025-07-15      3347.033305\n",
              "2025-07-16      3345.603801\n",
              "2025-07-17      3338.103088\n",
              "2025-07-18      3329.816133\n",
              "2025-07-19      3336.244084\n",
              "2025-07-20      3334.125485\n",
              "2025-07-21      3335.855004\n",
              "2025-07-22      3340.932112\n",
              "2025-07-23      3340.972015\n",
              "2025-07-24      3341.306972"
            ]
          },
          "metadata": {},
          "output_type": "display_data"
        }
      ],
      "source": [
        "# Convert to DataFrame\n",
        "future_preds_df = pd.DataFrame(future_preds, columns=['Date', 'Predicted_Price'])\n",
        "future_preds_df.set_index('Date', inplace=True)\n",
        "print(\" Next 10 Days Gold Price Predictions\")\n",
        "display(future_preds_df)\n"
      ]
    },
    {
      "cell_type": "markdown",
      "metadata": {
        "id": "kLtBJD4S6CEx"
      },
      "source": [
        "## Plot Actual vs Predicted Prices along with 10 days forecast"
      ]
    },
    {
      "cell_type": "code",
      "execution_count": 15,
      "metadata": {
        "colab": {
          "base_uri": "https://localhost:8080/",
          "height": 607
        },
        "id": "5CuLcstQtv4p",
        "outputId": "b0c856f6-939b-4519-da17-8c0e158513a7"
      },
      "outputs": [
        {
          "data": {
            "image/png": "[encoded data removed]",
            "text/plain": [
              "<Figure size 1400x600 with 1 Axes>"
            ]
          },
          "metadata": {},
          "output_type": "display_data"
        }
      ],
      "source": [
        "# Combine actual + predicted (past) + future forecast\n",
        "\n",
        "# past_actual = daily_df[['Price']]  # No slicing shows data from start date\n",
        "# past_predicted = daily_df[['Predicted_Price']].rename(columns={'Predicted_Price': 'Price'})  # No slicing shows data from start date\n",
        "# future_forecast = future_preds_df.rename(columns={'Predicted_Price': 'Price'})\n",
        "\n",
        "past_actual = daily_df[['Price']].iloc[-90:]  # for slicing to 90 days\n",
        "past_predicted = daily_df[['Predicted_Price']].iloc[-90:].rename(columns={'Predicted_Price': 'Price'}) # for slicing to 90 days\n",
        "future_forecast = future_preds_df.rename(columns={'Predicted_Price': 'Price'})\n",
        "\n",
        "# Plot\n",
        "plt.figure(figsize=(14,6))\n",
        "plt.plot(past_actual.index, past_actual['Price'], label=\"Actual\", color='blue', linewidth=2)\n",
        "plt.plot(past_predicted.index, past_predicted['Price'], label=\"Predicted (Historical)\", color='orange', linestyle='--', linewidth=2)\n",
        "plt.plot(future_forecast.index, future_forecast['Price'], label=\"Forecast (Next 10 Days)\", color='green', linestyle=':', linewidth=2)\n",
        "\n",
        "# Mark prediction start\n",
        "plt.axvline(daily_df.index[-1], color='red', linestyle='--', label=\"Prediction Start\")\n",
        "\n",
        "plt.title(\"Gold Price: Actual vs Historical Predictions vs Future Forecast\")\n",
        "plt.xlabel(\"Date\")\n",
        "plt.ylabel(\"Price\")\n",
        "plt.legend()\n",
        "plt.grid(True)\n",
        "plt.tight_layout()\n",
        "plt.show()\n"
      ]
    },
    {
      "cell_type": "markdown",
      "metadata": {
        "id": "FVkAaKDL6QMQ"
      },
      "source": [
        "## Model Error Analysis – Distribution of % Error"
      ]
    },
    {
      "cell_type": "code",
      "execution_count": 16,
      "metadata": {
        "colab": {
          "base_uri": "https://localhost:8080/",
          "height": 1000
        },
        "id": "y7p1iC1IA2Bh",
        "outputId": "c1b48293-2bd8-492a-d636-e619a31dc459"
      },
      "outputs": [
        {
          "data": {
            "text/html": [
              "<style type=\"text/css\">\n",
              "#T_3b3e2_row0_col3, #T_3b3e2_row1_col3, #T_3b3e2_row2_col3, #T_3b3e2_row3_col3, #T_3b3e2_row4_col3, #T_3b3e2_row5_col3, #T_3b3e2_row6_col3, #T_3b3e2_row7_col3, #T_3b3e2_row8_col3, #T_3b3e2_row9_col3, #T_3b3e2_row10_col3, #T_3b3e2_row11_col3, #T_3b3e2_row12_col3, #T_3b3e2_row13_col3, #T_3b3e2_row14_col3, #T_3b3e2_row15_col3, #T_3b3e2_row16_col3, #T_3b3e2_row17_col3, #T_3b3e2_row18_col3, #T_3b3e2_row19_col3, #T_3b3e2_row20_col3, #T_3b3e2_row21_col3, #T_3b3e2_row22_col3, #T_3b3e2_row23_col3, #T_3b3e2_row24_col3, #T_3b3e2_row25_col3, #T_3b3e2_row26_col3, #T_3b3e2_row27_col3, #T_3b3e2_row28_col3, #T_3b3e2_row29_col3 {\n",
              "  color: ;\n",
              "}\n",
              "</style>\n",
              "<table id=\"T_3b3e2\">\n",
              "  <thead>\n",
              "    <tr>\n",
              "      <th class=\"blank level0\" >&nbsp;</th>\n",
              "      <th id=\"T_3b3e2_level0_col0\" class=\"col_heading level0 col0\" >Price</th>\n",
              "      <th id=\"T_3b3e2_level0_col1\" class=\"col_heading level0 col1\" >Predicted_Price</th>\n",
              "      <th id=\"T_3b3e2_level0_col2\" class=\"col_heading level0 col2\" >Absolute_Error</th>\n",
              "      <th id=\"T_3b3e2_level0_col3\" class=\"col_heading level0 col3\" >% Error</th>\n",
              "    </tr>\n",
              "    <tr>\n",
              "      <th class=\"index_name level0\" >Date</th>\n",
              "      <th class=\"blank col0\" >&nbsp;</th>\n",
              "      <th class=\"blank col1\" >&nbsp;</th>\n",
              "      <th class=\"blank col2\" >&nbsp;</th>\n",
              "      <th class=\"blank col3\" >&nbsp;</th>\n",
              "    </tr>\n",
              "  </thead>\n",
              "  <tbody>\n",
              "    <tr>\n",
              "      <th id=\"T_3b3e2_level0_row0\" class=\"row_heading level0 row0\" >2025-06-02 00:00:00</th>\n",
              "      <td id=\"T_3b3e2_row0_col0\" class=\"data row0 col0\" >3370.600000</td>\n",
              "      <td id=\"T_3b3e2_row0_col1\" class=\"data row0 col1\" >3361.080000</td>\n",
              "      <td id=\"T_3b3e2_row0_col2\" class=\"data row0 col2\" >9.520000</td>\n",
              "      <td id=\"T_3b3e2_row0_col3\" class=\"data row0 col3\" >0.280000</td>\n",
              "    </tr>\n",
              "    <tr>\n",
              "      <th id=\"T_3b3e2_level0_row1\" class=\"row_heading level0 row1\" >2025-06-03 00:00:00</th>\n",
              "      <td id=\"T_3b3e2_row1_col0\" class=\"data row1 col0\" >3350.200000</td>\n",
              "      <td id=\"T_3b3e2_row1_col1\" class=\"data row1 col1\" >3352.740000</td>\n",
              "      <td id=\"T_3b3e2_row1_col2\" class=\"data row1 col2\" >2.540000</td>\n",
              "      <td id=\"T_3b3e2_row1_col3\" class=\"data row1 col3\" >0.080000</td>\n",
              "    </tr>\n",
              "    <tr>\n",
              "      <th id=\"T_3b3e2_level0_row2\" class=\"row_heading level0 row2\" >2025-06-04 00:00:00</th>\n",
              "      <td id=\"T_3b3e2_row2_col0\" class=\"data row2 col0\" >3373.500000</td>\n",
              "      <td id=\"T_3b3e2_row2_col1\" class=\"data row2 col1\" >3358.310000</td>\n",
              "      <td id=\"T_3b3e2_row2_col2\" class=\"data row2 col2\" >15.190000</td>\n",
              "      <td id=\"T_3b3e2_row2_col3\" class=\"data row2 col3\" >0.450000</td>\n",
              "    </tr>\n",
              "    <tr>\n",
              "      <th id=\"T_3b3e2_level0_row3\" class=\"row_heading level0 row3\" >2025-06-05 00:00:00</th>\n",
              "      <td id=\"T_3b3e2_row3_col0\" class=\"data row3 col0\" >3350.700000</td>\n",
              "      <td id=\"T_3b3e2_row3_col1\" class=\"data row3 col1\" >3338.840000</td>\n",
              "      <td id=\"T_3b3e2_row3_col2\" class=\"data row3 col2\" >11.860000</td>\n",
              "      <td id=\"T_3b3e2_row3_col3\" class=\"data row3 col3\" >0.350000</td>\n",
              "    </tr>\n",
              "    <tr>\n",
              "      <th id=\"T_3b3e2_level0_row4\" class=\"row_heading level0 row4\" >2025-06-06 00:00:00</th>\n",
              "      <td id=\"T_3b3e2_row4_col0\" class=\"data row4 col0\" >3322.700000</td>\n",
              "      <td id=\"T_3b3e2_row4_col1\" class=\"data row4 col1\" >3327.300000</td>\n",
              "      <td id=\"T_3b3e2_row4_col2\" class=\"data row4 col2\" >4.600000</td>\n",
              "      <td id=\"T_3b3e2_row4_col3\" class=\"data row4 col3\" >0.140000</td>\n",
              "    </tr>\n",
              "    <tr>\n",
              "      <th id=\"T_3b3e2_level0_row5\" class=\"row_heading level0 row5\" >2025-06-09 00:00:00</th>\n",
              "      <td id=\"T_3b3e2_row5_col0\" class=\"data row5 col0\" >3332.100000</td>\n",
              "      <td id=\"T_3b3e2_row5_col1\" class=\"data row5 col1\" >3328.620000</td>\n",
              "      <td id=\"T_3b3e2_row5_col2\" class=\"data row5 col2\" >3.480000</td>\n",
              "      <td id=\"T_3b3e2_row5_col3\" class=\"data row5 col3\" >0.100000</td>\n",
              "    </tr>\n",
              "    <tr>\n",
              "      <th id=\"T_3b3e2_level0_row6\" class=\"row_heading level0 row6\" >2025-06-10 00:00:00</th>\n",
              "      <td id=\"T_3b3e2_row6_col0\" class=\"data row6 col0\" >3320.900000</td>\n",
              "      <td id=\"T_3b3e2_row6_col1\" class=\"data row6 col1\" >3325.080000</td>\n",
              "      <td id=\"T_3b3e2_row6_col2\" class=\"data row6 col2\" >4.180000</td>\n",
              "      <td id=\"T_3b3e2_row6_col3\" class=\"data row6 col3\" >0.130000</td>\n",
              "    </tr>\n",
              "    <tr>\n",
              "      <th id=\"T_3b3e2_level0_row7\" class=\"row_heading level0 row7\" >2025-06-11 00:00:00</th>\n",
              "      <td id=\"T_3b3e2_row7_col0\" class=\"data row7 col0\" >3321.300000</td>\n",
              "      <td id=\"T_3b3e2_row7_col1\" class=\"data row7 col1\" >3342.210000</td>\n",
              "      <td id=\"T_3b3e2_row7_col2\" class=\"data row7 col2\" >20.910000</td>\n",
              "      <td id=\"T_3b3e2_row7_col3\" class=\"data row7 col3\" >0.630000</td>\n",
              "    </tr>\n",
              "    <tr>\n",
              "      <th id=\"T_3b3e2_level0_row8\" class=\"row_heading level0 row8\" >2025-06-12 00:00:00</th>\n",
              "      <td id=\"T_3b3e2_row8_col0\" class=\"data row8 col0\" >3380.900000</td>\n",
              "      <td id=\"T_3b3e2_row8_col1\" class=\"data row8 col1\" >3389.260000</td>\n",
              "      <td id=\"T_3b3e2_row8_col2\" class=\"data row8 col2\" >8.360000</td>\n",
              "      <td id=\"T_3b3e2_row8_col3\" class=\"data row8 col3\" >0.250000</td>\n",
              "    </tr>\n",
              "    <tr>\n",
              "      <th id=\"T_3b3e2_level0_row9\" class=\"row_heading level0 row9\" >2025-06-13 00:00:00</th>\n",
              "      <td id=\"T_3b3e2_row9_col0\" class=\"data row9 col0\" >3431.200000</td>\n",
              "      <td id=\"T_3b3e2_row9_col1\" class=\"data row9 col1\" >3405.760000</td>\n",
              "      <td id=\"T_3b3e2_row9_col2\" class=\"data row9 col2\" >25.440000</td>\n",
              "      <td id=\"T_3b3e2_row9_col3\" class=\"data row9 col3\" >0.740000</td>\n",
              "    </tr>\n",
              "    <tr>\n",
              "      <th id=\"T_3b3e2_level0_row10\" class=\"row_heading level0 row10\" >2025-06-16 00:00:00</th>\n",
              "      <td id=\"T_3b3e2_row10_col0\" class=\"data row10 col0\" >3396.400000</td>\n",
              "      <td id=\"T_3b3e2_row10_col1\" class=\"data row10 col1\" >3391.600000</td>\n",
              "      <td id=\"T_3b3e2_row10_col2\" class=\"data row10 col2\" >4.800000</td>\n",
              "      <td id=\"T_3b3e2_row10_col3\" class=\"data row10 col3\" >0.140000</td>\n",
              "    </tr>\n",
              "    <tr>\n",
              "      <th id=\"T_3b3e2_level0_row11\" class=\"row_heading level0 row11\" >2025-06-17 00:00:00</th>\n",
              "      <td id=\"T_3b3e2_row11_col0\" class=\"data row11 col0\" >3386.600000</td>\n",
              "      <td id=\"T_3b3e2_row11_col1\" class=\"data row11 col1\" >3387.050000</td>\n",
              "      <td id=\"T_3b3e2_row11_col2\" class=\"data row11 col2\" >0.450000</td>\n",
              "      <td id=\"T_3b3e2_row11_col3\" class=\"data row11 col3\" >0.010000</td>\n",
              "    </tr>\n",
              "    <tr>\n",
              "      <th id=\"T_3b3e2_level0_row12\" class=\"row_heading level0 row12\" >2025-06-18 00:00:00</th>\n",
              "      <td id=\"T_3b3e2_row12_col0\" class=\"data row12 col0\" >3389.800000</td>\n",
              "      <td id=\"T_3b3e2_row12_col1\" class=\"data row12 col1\" >3376.510000</td>\n",
              "      <td id=\"T_3b3e2_row12_col2\" class=\"data row12 col2\" >13.290000</td>\n",
              "      <td id=\"T_3b3e2_row12_col3\" class=\"data row12 col3\" >0.390000</td>\n",
              "    </tr>\n",
              "    <tr>\n",
              "      <th id=\"T_3b3e2_level0_row13\" class=\"row_heading level0 row13\" >2025-06-20 00:00:00</th>\n",
              "      <td id=\"T_3b3e2_row13_col0\" class=\"data row13 col0\" >3368.100000</td>\n",
              "      <td id=\"T_3b3e2_row13_col1\" class=\"data row13 col1\" >3366.270000</td>\n",
              "      <td id=\"T_3b3e2_row13_col2\" class=\"data row13 col2\" >1.830000</td>\n",
              "      <td id=\"T_3b3e2_row13_col3\" class=\"data row13 col3\" >0.050000</td>\n",
              "    </tr>\n",
              "    <tr>\n",
              "      <th id=\"T_3b3e2_level0_row14\" class=\"row_heading level0 row14\" >2025-06-23 00:00:00</th>\n",
              "      <td id=\"T_3b3e2_row14_col0\" class=\"data row14 col0\" >3377.700000</td>\n",
              "      <td id=\"T_3b3e2_row14_col1\" class=\"data row14 col1\" >3358.610000</td>\n",
              "      <td id=\"T_3b3e2_row14_col2\" class=\"data row14 col2\" >19.090000</td>\n",
              "      <td id=\"T_3b3e2_row14_col3\" class=\"data row14 col3\" >0.570000</td>\n",
              "    </tr>\n",
              "    <tr>\n",
              "      <th id=\"T_3b3e2_level0_row15\" class=\"row_heading level0 row15\" >2025-06-24 00:00:00</th>\n",
              "      <td id=\"T_3b3e2_row15_col0\" class=\"data row15 col0\" >3317.400000</td>\n",
              "      <td id=\"T_3b3e2_row15_col1\" class=\"data row15 col1\" >3320.140000</td>\n",
              "      <td id=\"T_3b3e2_row15_col2\" class=\"data row15 col2\" >2.740000</td>\n",
              "      <td id=\"T_3b3e2_row15_col3\" class=\"data row15 col3\" >0.080000</td>\n",
              "    </tr>\n",
              "    <tr>\n",
              "      <th id=\"T_3b3e2_level0_row16\" class=\"row_heading level0 row16\" >2025-06-25 00:00:00</th>\n",
              "      <td id=\"T_3b3e2_row16_col0\" class=\"data row16 col0\" >3327.100000</td>\n",
              "      <td id=\"T_3b3e2_row16_col1\" class=\"data row16 col1\" >3329.660000</td>\n",
              "      <td id=\"T_3b3e2_row16_col2\" class=\"data row16 col2\" >2.560000</td>\n",
              "      <td id=\"T_3b3e2_row16_col3\" class=\"data row16 col3\" >0.080000</td>\n",
              "    </tr>\n",
              "    <tr>\n",
              "      <th id=\"T_3b3e2_level0_row17\" class=\"row_heading level0 row17\" >2025-06-26 00:00:00</th>\n",
              "      <td id=\"T_3b3e2_row17_col0\" class=\"data row17 col0\" >3333.500000</td>\n",
              "      <td id=\"T_3b3e2_row17_col1\" class=\"data row17 col1\" >3309.930000</td>\n",
              "      <td id=\"T_3b3e2_row17_col2\" class=\"data row17 col2\" >23.570000</td>\n",
              "      <td id=\"T_3b3e2_row17_col3\" class=\"data row17 col3\" >0.710000</td>\n",
              "    </tr>\n",
              "    <tr>\n",
              "      <th id=\"T_3b3e2_level0_row18\" class=\"row_heading level0 row18\" >2025-06-27 00:00:00</th>\n",
              "      <td id=\"T_3b3e2_row18_col0\" class=\"data row18 col0\" >3273.700000</td>\n",
              "      <td id=\"T_3b3e2_row18_col1\" class=\"data row18 col1\" >3293.940000</td>\n",
              "      <td id=\"T_3b3e2_row18_col2\" class=\"data row18 col2\" >20.240000</td>\n",
              "      <td id=\"T_3b3e2_row18_col3\" class=\"data row18 col3\" >0.620000</td>\n",
              "    </tr>\n",
              "    <tr>\n",
              "      <th id=\"T_3b3e2_level0_row19\" class=\"row_heading level0 row19\" >2025-06-30 00:00:00</th>\n",
              "      <td id=\"T_3b3e2_row19_col0\" class=\"data row19 col0\" >3294.400000</td>\n",
              "      <td id=\"T_3b3e2_row19_col1\" class=\"data row19 col1\" >3317.120000</td>\n",
              "      <td id=\"T_3b3e2_row19_col2\" class=\"data row19 col2\" >22.720000</td>\n",
              "      <td id=\"T_3b3e2_row19_col3\" class=\"data row19 col3\" >0.690000</td>\n",
              "    </tr>\n",
              "    <tr>\n",
              "      <th id=\"T_3b3e2_level0_row20\" class=\"row_heading level0 row20\" >2025-07-01 00:00:00</th>\n",
              "      <td id=\"T_3b3e2_row20_col0\" class=\"data row20 col0\" >3336.700000</td>\n",
              "      <td id=\"T_3b3e2_row20_col1\" class=\"data row20 col1\" >3334.510000</td>\n",
              "      <td id=\"T_3b3e2_row20_col2\" class=\"data row20 col2\" >2.190000</td>\n",
              "      <td id=\"T_3b3e2_row20_col3\" class=\"data row20 col3\" >0.070000</td>\n",
              "    </tr>\n",
              "    <tr>\n",
              "      <th id=\"T_3b3e2_level0_row21\" class=\"row_heading level0 row21\" >2025-07-02 00:00:00</th>\n",
              "      <td id=\"T_3b3e2_row21_col0\" class=\"data row21 col0\" >3348.000000</td>\n",
              "      <td id=\"T_3b3e2_row21_col1\" class=\"data row21 col1\" >3343.500000</td>\n",
              "      <td id=\"T_3b3e2_row21_col2\" class=\"data row21 col2\" >4.500000</td>\n",
              "      <td id=\"T_3b3e2_row21_col3\" class=\"data row21 col3\" >0.130000</td>\n",
              "    </tr>\n",
              "    <tr>\n",
              "      <th id=\"T_3b3e2_level0_row22\" class=\"row_heading level0 row22\" >2025-07-03 00:00:00</th>\n",
              "      <td id=\"T_3b3e2_row22_col0\" class=\"data row22 col0\" >3331.600000</td>\n",
              "      <td id=\"T_3b3e2_row22_col1\" class=\"data row22 col1\" >3336.330000</td>\n",
              "      <td id=\"T_3b3e2_row22_col2\" class=\"data row22 col2\" >4.730000</td>\n",
              "      <td id=\"T_3b3e2_row22_col3\" class=\"data row22 col3\" >0.140000</td>\n",
              "    </tr>\n",
              "    <tr>\n",
              "      <th id=\"T_3b3e2_level0_row23\" class=\"row_heading level0 row23\" >2025-07-04 00:00:00</th>\n",
              "      <td id=\"T_3b3e2_row23_col0\" class=\"data row23 col0\" >3332.500000</td>\n",
              "      <td id=\"T_3b3e2_row23_col1\" class=\"data row23 col1\" >3330.760000</td>\n",
              "      <td id=\"T_3b3e2_row23_col2\" class=\"data row23 col2\" >1.740000</td>\n",
              "      <td id=\"T_3b3e2_row23_col3\" class=\"data row23 col3\" >0.050000</td>\n",
              "    </tr>\n",
              "    <tr>\n",
              "      <th id=\"T_3b3e2_level0_row24\" class=\"row_heading level0 row24\" >2025-07-07 00:00:00</th>\n",
              "      <td id=\"T_3b3e2_row24_col0\" class=\"data row24 col0\" >3332.200000</td>\n",
              "      <td id=\"T_3b3e2_row24_col1\" class=\"data row24 col1\" >3322.570000</td>\n",
              "      <td id=\"T_3b3e2_row24_col2\" class=\"data row24 col2\" >9.630000</td>\n",
              "      <td id=\"T_3b3e2_row24_col3\" class=\"data row24 col3\" >0.290000</td>\n",
              "    </tr>\n",
              "    <tr>\n",
              "      <th id=\"T_3b3e2_level0_row25\" class=\"row_heading level0 row25\" >2025-07-08 00:00:00</th>\n",
              "      <td id=\"T_3b3e2_row25_col0\" class=\"data row25 col0\" >3307.000000</td>\n",
              "      <td id=\"T_3b3e2_row25_col1\" class=\"data row25 col1\" >3316.260000</td>\n",
              "      <td id=\"T_3b3e2_row25_col2\" class=\"data row25 col2\" >9.260000</td>\n",
              "      <td id=\"T_3b3e2_row25_col3\" class=\"data row25 col3\" >0.280000</td>\n",
              "    </tr>\n",
              "    <tr>\n",
              "      <th id=\"T_3b3e2_level0_row26\" class=\"row_heading level0 row26\" >2025-07-09 00:00:00</th>\n",
              "      <td id=\"T_3b3e2_row26_col0\" class=\"data row26 col0\" >3311.600000</td>\n",
              "      <td id=\"T_3b3e2_row26_col1\" class=\"data row26 col1\" >3319.860000</td>\n",
              "      <td id=\"T_3b3e2_row26_col2\" class=\"data row26 col2\" >8.260000</td>\n",
              "      <td id=\"T_3b3e2_row26_col3\" class=\"data row26 col3\" >0.250000</td>\n",
              "    </tr>\n",
              "    <tr>\n",
              "      <th id=\"T_3b3e2_level0_row27\" class=\"row_heading level0 row27\" >2025-07-10 00:00:00</th>\n",
              "      <td id=\"T_3b3e2_row27_col0\" class=\"data row27 col0\" >3317.400000</td>\n",
              "      <td id=\"T_3b3e2_row27_col1\" class=\"data row27 col1\" >3331.710000</td>\n",
              "      <td id=\"T_3b3e2_row27_col2\" class=\"data row27 col2\" >14.310000</td>\n",
              "      <td id=\"T_3b3e2_row27_col3\" class=\"data row27 col3\" >0.430000</td>\n",
              "    </tr>\n",
              "    <tr>\n",
              "      <th id=\"T_3b3e2_level0_row28\" class=\"row_heading level0 row28\" >2025-07-11 00:00:00</th>\n",
              "      <td id=\"T_3b3e2_row28_col0\" class=\"data row28 col0\" >3356.000000</td>\n",
              "      <td id=\"T_3b3e2_row28_col1\" class=\"data row28 col1\" >3350.460000</td>\n",
              "      <td id=\"T_3b3e2_row28_col2\" class=\"data row28 col2\" >5.540000</td>\n",
              "      <td id=\"T_3b3e2_row28_col3\" class=\"data row28 col3\" >0.160000</td>\n",
              "    </tr>\n",
              "    <tr>\n",
              "      <th id=\"T_3b3e2_level0_row29\" class=\"row_heading level0 row29\" >2025-07-14 00:00:00</th>\n",
              "      <td id=\"T_3b3e2_row29_col0\" class=\"data row29 col0\" >3351.500000</td>\n",
              "      <td id=\"T_3b3e2_row29_col1\" class=\"data row29 col1\" >3347.030000</td>\n",
              "      <td id=\"T_3b3e2_row29_col2\" class=\"data row29 col2\" >4.470000</td>\n",
              "      <td id=\"T_3b3e2_row29_col3\" class=\"data row29 col3\" >0.130000</td>\n",
              "    </tr>\n",
              "  </tbody>\n",
              "</table>\n"
            ],
            "text/plain": [
              "<pandas.io.formats.style.Styler at 0x1ef3cb20830>"
            ]
          },
          "metadata": {},
          "output_type": "display_data"
        }
      ],
      "source": [
        "# Create comparison DataFrame\n",
        "comparison_df = daily_df[['Price', 'Predicted_Price']].copy()\n",
        "comparison_df['Absolute_Error'] = (comparison_df['Price'] - comparison_df['Predicted_Price']).abs()\n",
        "comparison_df['% Error'] = (comparison_df['Absolute_Error'] / comparison_df['Price']) * 100\n",
        "\n",
        "# Round values for readability\n",
        "comparison_df = comparison_df.round(2)\n",
        "\n",
        "def highlight_error(val):\n",
        "    color = 'red' if val > 1 else ''\n",
        "    return f'color: {color}'\n",
        "\n",
        "# Apply style to % Error column\n",
        "styled_df = comparison_df.tail(30).style.map(highlight_error, subset=['% Error'])\n",
        "\n",
        "display(styled_df)"
      ]
    },
    {
      "cell_type": "code",
      "execution_count": 17,
      "metadata": {
        "colab": {
          "base_uri": "https://localhost:8080/",
          "height": 507
        },
        "id": "9rdoqqTYt6IS",
        "outputId": "1fb4183f-e898-41db-e437-7fc107092cfc"
      },
      "outputs": [
        {
          "data": {
            "image/png": "[encoded data removed]",
            "text/plain": [
              "<Figure size 1000x500 with 1 Axes>"
            ]
          },
          "metadata": {},
          "output_type": "display_data"
        }
      ],
      "source": [
        "comparison_df['% Error'].plot(kind='hist', bins=30, color='steelblue', edgecolor='black', figsize=(10,5), title=\"Distribution of % Error\")\n",
        "plt.axvline(1, linestyle='--', color='red', label=\"1% Threshold\")\n",
        "plt.xlabel(\"% Error\")\n",
        "plt.legend()\n",
        "plt.grid(True)\n",
        "plt.tight_layout()\n",
        "plt.show()"
      ]
    },
    {
      "cell_type": "code",
      "execution_count": 18,
      "metadata": {},
      "outputs": [
        {
          "data": {
            "text/plain": [
              "['ridge_model.pkl']"
            ]
          },
          "execution_count": 18,
          "metadata": {},
          "output_type": "execute_result"
        }
      ],
      "source": [
        "import joblib\n",
        "\n",
        "# Save Random Forest model\n",
        "joblib.dump(rf, 'rf_model.pkl')\n",
        "\n",
        "# Save Ridge pipeline model (with scaler)\n",
        "joblib.dump(ridge, 'ridge_model.pkl')\n"
      ]
    },
    {
      "cell_type": "code",
      "execution_count": 20,
      "metadata": {},
      "outputs": [
        {
          "name": "stdout",
          "output_type": "stream",
          "text": [
            "[3351.5, 3341.63, 3329.74, 3325.23, -0.0, 19.04, 39.9, 0.01, 56.92]\n"
          ]
        }
      ],
      "source": [
        "# Payload Data\n",
        "latest_row = daily_df[features].iloc[-1].round(2).tolist()\n",
        "print(latest_row)"
      ]
    }
  ],
  "metadata": {
    "colab": {
      "provenance": []
    },
    "kernelspec": {
      "display_name": "Python 3",
      "name": "python3"
    },
    "language_info": {
      "codemirror_mode": {
        "name": "ipython",
        "version": 3
      },
      "file_extension": ".py",
      "mimetype": "text/x-python",
      "name": "python",
      "nbconvert_exporter": "python",
      "pygments_lexer": "ipython3",
      "version": "3.13.1"
    }
  },
  "nbformat": 4,
  "nbformat_minor": 0
}
